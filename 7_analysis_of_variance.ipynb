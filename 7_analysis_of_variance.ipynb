{
 "cells": [
  {
   "cell_type": "markdown",
   "id": "4efb0b83",
   "metadata": {},
   "source": [
    "# Дисперсионный анализ\n"
   ]
  },
  {
   "cell_type": "markdown",
   "id": "59c7cb48",
   "metadata": {},
   "source": [
    "Целью дисперсионного анализа является исследование различий между выборочных средних. В отличинии от t критерия позволяет сравнивать средние более двух групп. Несмотря на то что целью анализя является поиск различий в средних, фактически исследуют дисперсии выборок, откуда и пошло названия анализа - дисперсионного. \\\n",
    "\n",
    "Простейшим случаем дисперсионного анализа является одномерный однофакторный анализ для двух или нескольких независимых групп, когда все группы объединены по одному признаку. В ходе анализа проверяется нулевая гипотеза о равенстве средних. При анализе двух групп дисперсионный анализ тождественен двухвыборочному t-критерию Стьюдента для независимых выборок, и величина F-статистики равна квадрату соответствующей t-статистики."
   ]
  },
  {
   "cell_type": "markdown",
   "id": "29ad5367",
   "metadata": {},
   "source": [
    "## Однофакторный дисперсионный анализ"
   ]
  },
  {
   "cell_type": "markdown",
   "id": "b5a16533",
   "metadata": {},
   "source": [
    "Алгоритм однофакторного дисперсионного анализа"
   ]
  },
  {
   "cell_type": "code",
   "execution_count": 35,
   "id": "7296d292",
   "metadata": {},
   "outputs": [],
   "source": [
    "import math\n",
    "from scipy import stats\n",
    "import numpy as np\n",
    "import random\n",
    "import matplotlib as mpl\n",
    "import pandas as pd\n",
    "from pylab import rcParams\n",
    "import matplotlib.pyplot as plt\n",
    "import seaborn as sns\n",
    "\n",
    "\n",
    "rcParams['figure.figsize'] = 10, 6\n",
    "PATH = \"/Users/daria/stepikcourse/\""
   ]
  },
  {
   "cell_type": "code",
   "execution_count": 23,
   "id": "433657d3",
   "metadata": {},
   "outputs": [],
   "source": [
    "# зададим 3 случайных выборки \n",
    "gen_pop = [random.randint(0, 100) for i in range(0, 10000)] # зададим генеральную совокупность из псевдослучайных величин от 0 до 100 объемом 10000\n",
    "samps = [[random.choice(gen_pop) for i in range(0, 9)] for j in range(0, 3)] # сделаем 3 выборки размером 9 элементов из этой ГС"
   ]
  },
  {
   "cell_type": "markdown",
   "id": "def7c6b0",
   "metadata": {},
   "source": [
    "Выдвенем гипотезы: \\\n",
    "H0 - мат. ожидания выборок равны М1=М2=М3 \\\n",
    "H1 - мат. ожидания выборок НЕ равны М1!=М2!=М3"
   ]
  },
  {
   "cell_type": "code",
   "execution_count": 7,
   "id": "1586949e",
   "metadata": {},
   "outputs": [],
   "source": [
    "def onewayanova(samples): # samples - массив выборок\n",
    "    m = len(samples) # вычислим количество выборок в массиве\n",
    "    n = 0 # общее кол-во элементов\n",
    "    summ = 0 # общая сумма всех членов выборок\n",
    "    size = 0 # общий размер всех выборок \n",
    "    x = 0 # общее среднее\n",
    "    sst = 0 # sum of squares total\n",
    "    ssw = 0 # sum of squares within\n",
    "    ssb = 0 # sum of squares between \n",
    "    f = 0 # критерий\n",
    "    \n",
    "    for i in range(0, m):\n",
    "        summ = summ + sum(samples[i])\n",
    "        size = size + len(samples[i])\n",
    "        x = summ / size \n",
    "    \n",
    "    for i in range(0, m): \n",
    "        \n",
    "        for j in samples[i]:         \n",
    "            sst = sst + (j - x) ** 2\n",
    "            ssw = ssw + (j - np.mean(samples[i])) ** 2\n",
    "        \n",
    "        ssb = ssb + len(samples[i]) * (np.mean(samples[i]) - x) ** 2 \n",
    "    \n",
    "    for i in range(0, m):\n",
    "        n = n + len(samples[i])\n",
    "        \n",
    "    msbg = ssb / (m - 1) # межгрупповой средний квадрат \n",
    "    mswg = ssw / (n - m) # внутригрупповой средний квадрат\n",
    "    f = msbg / mswg\n",
    "        \n",
    "    return f"
   ]
  },
  {
   "cell_type": "code",
   "execution_count": 24,
   "id": "1fffc86e",
   "metadata": {},
   "outputs": [
    {
     "data": {
      "text/plain": [
       "0.6369520839530991"
      ]
     },
     "execution_count": 24,
     "metadata": {},
     "output_type": "execute_result"
    }
   ],
   "source": [
    "onewayanova(samps)"
   ]
  },
  {
   "cell_type": "code",
   "execution_count": 25,
   "id": "a1c321ad",
   "metadata": {},
   "outputs": [
    {
     "data": {
      "text/plain": [
       "0.5376094417980138"
      ]
     },
     "execution_count": 25,
     "metadata": {},
     "output_type": "execute_result"
    }
   ],
   "source": [
    "f, p = stats.f_oneway(samps[0], samps[1], samps[2]) # вычислим f статистику при помощи программного пакета scipy\n",
    "p"
   ]
  },
  {
   "cell_type": "markdown",
   "id": "35ae5826",
   "metadata": {},
   "source": [
    "При предположении о том, что верна Н0 (средние выборок равны т.к они взяты из одной генеральной совокупности и различаются статически незначимо только за счет малого объема выборок) межгрупповая изменчивость в числителе F критерия будет стремиться к 0 и сам F критерий будет принимать малые значения. Зная значения F критерия можно вычислить вероятность получения такого или более значимого различия при верности Н0"
   ]
  },
  {
   "cell_type": "code",
   "execution_count": 27,
   "id": "eac903bf",
   "metadata": {},
   "outputs": [
    {
     "name": "stdout",
     "output_type": "stream",
     "text": [
      "p_value = 0.54 > 0.05. Условий для отклонения Н0 нет\n"
     ]
    }
   ],
   "source": [
    "if p < 0.05:\n",
    "    print(f'p_value = {round(p, 2)} < 0.05. Принимается гипотеза Н1')\n",
    "else:\n",
    "    print(f'p_value = {round(p, 2)} > 0.05. Условий для отклонения Н0 нет')"
   ]
  },
  {
   "cell_type": "markdown",
   "id": "efd9aa69",
   "metadata": {},
   "source": [
    "Задача:\\\n",
    "Даны 4 виды терапии, увеличивающие экспрессию гена. Терапии применили к испытуемым в 4 группах и получили новые данные по экспрессии гена в каждой из групп. Определить повлияла ли значимо хотя бы одна терапия на экспрессию гена. \\\n",
    "Сформулируем гипотезы \\\n",
    "Н0 М1=М2=М3=М4 - среднее в ген. совокупности будет одинаковое при использовании терапии всех 4 типов  \\\n",
    "Н1 М1!=М2!=М3!=М4 - хотя бы одна терапия окажет значимое различие "
   ]
  },
  {
   "cell_type": "code",
   "execution_count": 36,
   "id": "06983f67",
   "metadata": {},
   "outputs": [
    {
     "data": {
      "text/html": [
       "<div>\n",
       "<style scoped>\n",
       "    .dataframe tbody tr th:only-of-type {\n",
       "        vertical-align: middle;\n",
       "    }\n",
       "\n",
       "    .dataframe tbody tr th {\n",
       "        vertical-align: top;\n",
       "    }\n",
       "\n",
       "    .dataframe thead th {\n",
       "        text-align: right;\n",
       "    }\n",
       "</style>\n",
       "<table border=\"1\" class=\"dataframe\">\n",
       "  <thead>\n",
       "    <tr style=\"text-align: right;\">\n",
       "      <th></th>\n",
       "      <th>expr</th>\n",
       "      <th>Therapy</th>\n",
       "    </tr>\n",
       "  </thead>\n",
       "  <tbody>\n",
       "    <tr>\n",
       "      <th>0</th>\n",
       "      <td>100</td>\n",
       "      <td>A</td>\n",
       "    </tr>\n",
       "    <tr>\n",
       "      <th>1</th>\n",
       "      <td>96</td>\n",
       "      <td>A</td>\n",
       "    </tr>\n",
       "    <tr>\n",
       "      <th>2</th>\n",
       "      <td>101</td>\n",
       "      <td>A</td>\n",
       "    </tr>\n",
       "    <tr>\n",
       "      <th>3</th>\n",
       "      <td>95</td>\n",
       "      <td>A</td>\n",
       "    </tr>\n",
       "    <tr>\n",
       "      <th>4</th>\n",
       "      <td>103</td>\n",
       "      <td>A</td>\n",
       "    </tr>\n",
       "  </tbody>\n",
       "</table>\n",
       "</div>"
      ],
      "text/plain": [
       "   expr Therapy\n",
       "0   100       A\n",
       "1    96       A\n",
       "2   101       A\n",
       "3    95       A\n",
       "4   103       A"
      ]
     },
     "execution_count": 36,
     "metadata": {},
     "output_type": "execute_result"
    }
   ],
   "source": [
    "URL = PATH + 'genetherapy.csv'\n",
    "data = pd.read_csv(URL)\n",
    "data.head()"
   ]
  },
  {
   "cell_type": "code",
   "execution_count": 32,
   "id": "fa74e8b3",
   "metadata": {},
   "outputs": [
    {
     "name": "stderr",
     "output_type": "stream",
     "text": [
      "/Users/daria/opt/anaconda3/lib/python3.9/site-packages/seaborn/_decorators.py:36: FutureWarning: Pass the following variables as keyword args: x, y. From version 0.12, the only valid positional argument will be `data`, and passing other arguments without an explicit keyword will result in an error or misinterpretation.\n",
      "  warnings.warn(\n"
     ]
    },
    {
     "data": {
      "image/png": "[encoded data removed]",
      "text/plain": [
       "<Figure size 360x360 with 1 Axes>"
      ]
     },
     "metadata": {
      "needs_background": "light"
     },
     "output_type": "display_data"
    }
   ],
   "source": [
    "sns.axes_style(style='ticks')\n",
    "g = sns.catplot(\"Therapy\", \"expr\", data=data, kind=\"violin\")"
   ]
  },
  {
   "cell_type": "code",
   "execution_count": 33,
   "id": "5467862e",
   "metadata": {},
   "outputs": [
    {
     "name": "stdout",
     "output_type": "stream",
     "text": [
      "pvalue - 0.00015\n"
     ]
    }
   ],
   "source": [
    "terapy_kind = ['A', 'B', 'C', 'D']\n",
    "expr = [np.array(data[data['Therapy'] == i]['expr']) for i in terapy_kind]\n",
    "\n",
    "f, p = stats.f_oneway(expr[0], expr[1], expr[2], expr[3])\n",
    "print(f'pvalue - {round(p, 5)}')"
   ]
  },
  {
   "cell_type": "markdown",
   "id": "15d46057",
   "metadata": {},
   "source": [
    "Вывод: уровень pvalue < 0.05. Значит значит среднее как минимум одной терапии имеет статичетически значимое различие. Гипотезу Н0 можно отклонить "
   ]
  },
  {
   "cell_type": "code",
   "execution_count": null,
   "id": "c37a8b07",
   "metadata": {},
   "outputs": [],
   "source": []
  }
 ],
 "metadata": {
  "kernelspec": {
   "display_name": "Python 3 (ipykernel)",
   "language": "python",
   "name": "python3"
  },
  "language_info": {
   "codemirror_mode": {
    "name": "ipython",
    "version": 3
   },
   "file_extension": ".py",
   "mimetype": "text/x-python",
   "name": "python",
   "nbconvert_exporter": "python",
   "pygments_lexer": "ipython3",
   "version": "3.9.12"
  },
  "toc": {
   "base_numbering": 1,
   "nav_menu": {},
   "number_sections": true,
   "sideBar": true,
   "skip_h1_title": false,
   "title_cell": "Table of Contents",
   "title_sidebar": "Contents",
   "toc_cell": false,
   "toc_position": {},
   "toc_section_display": true,
   "toc_window_display": true
  }
 },
 "nbformat": 4,
 "nbformat_minor": 5
}
