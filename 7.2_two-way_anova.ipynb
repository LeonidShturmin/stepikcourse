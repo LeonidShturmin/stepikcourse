{
 "cells": [
  {
   "cell_type": "markdown",
   "id": "f0a23535",
   "metadata": {},
   "source": [
    "# Двухфакторный дисперсионный анализ"
   ]
  },
  {
   "cell_type": "markdown",
   "id": "ff3c5786",
   "metadata": {},
   "source": [
    "Two-way analysis of variable - позволяет определить взаимосвязь зависимой переменной не с одним фактором, а с двумя и выявить эффект взаимодействия на переменную отклика комбинации этих факторов.\n",
    "Требования к данным и допущения: \\\n",
    "\n",
    "1) Нормальность распределения зависимой перменной в каждой из групп\n",
    "2) Гомогенность дисперсий\n",
    "\n",
    "Первое требование к нормальности данных можно проверить простроя графий qq-plot, провести тест Шапиро-Уилка, критерием Колмогорова\n",
    "Второе требование к гомогенности можно проверить проведя тест Левена. \\\n",
    "\n",
    "Ниже приведен алгоритм реализации двухфакторного дисперсионного анализа с проверкой данных на нормальность распределения и гомогенность дисперсии"
   ]
  },
  {
   "cell_type": "code",
   "execution_count": 17,
   "id": "57c5089d",
   "metadata": {},
   "outputs": [],
   "source": [
    "import math\n",
    "from scipy import stats\n",
    "import numpy as np\n",
    "import random\n",
    "import matplotlib as mpl\n",
    "import pandas as pd\n",
    "import seaborn as sns\n",
    "from pylab import rcParams\n",
    "\n",
    "rcParams['figure.figsize'] = 10, 6\n",
    "PATH = \"/Users/daria/stepikcourse/\""
   ]
  },
  {
   "cell_type": "code",
   "execution_count": 16,
   "id": "417a6a1e",
   "metadata": {},
   "outputs": [],
   "source": [
    "def twowayanova(frame):\n",
    "    \n",
    "    fac1_column = frame[frame.columns[1]] # series по столбцу первого фактора \n",
    "    fac2_column = frame[frame.columns[2]] # series по столбцу второго фактора \n",
    "    groups_list = []\n",
    "    flag = 0\n",
    "    dictrib_flag = False \n",
    "    dispersion_flag = False \n",
    "\n",
    "    for i in fac1_column.unique(): # итерация по уникальным значениям 1-ого фактора \n",
    "        \n",
    "        for j in fac2_column.unique():  # итерация по уникальным значениям 2-ого фактора \n",
    "            \n",
    "            a = frame[((fac1_column == i) & (fac2_column == j))][frame.columns[0]]\n",
    "            stat, p = stats.shapiro(a)\n",
    "            groups_list.append(a)\n",
    "            if p > 0.05:\n",
    "                flag = flag + 1\n",
    "                print(f'Зависимая переменна группы {flag} распределена нормально, p-val = {round(p, 2)}')\n",
    "\n",
    "    if flag == 4:\n",
    "        dictrib_flag = True   \n",
    "        \n",
    "    if len(a) == 4:          \n",
    "        stat, p = stats.levene(groups_list[0], groups_list[1], groups_list[2], groups_list[3], center='median')\n",
    "    elif len(a) == 6:    \n",
    "        stat, p = stats.levene(groups_list[0], groups_list[1], groups_list[2], groups_list[3], groups_list[4], groups_list[5], center='median')\n",
    "        \n",
    "    if p > 0.05:\n",
    "        print(f'Дисперсии равны, p-val = {round(p, 2)}')\n",
    "        dispersion_flag = True \n",
    "        \n",
    "    if dictrib_flag == True and dispersion_flag == True:\n",
    "        \n",
    "        ssb1 = 0 # переменная межгрупповой суммы квадратов первого фактора\n",
    "        ssb2 = 0 # переменная межгрупповой суммы квадратов второго фактора\n",
    "        ssw = 0 # переменная внутригрупповой суммы квадратов второго фактора\n",
    "\n",
    "        df = [] # список степеней свобод групп\n",
    "        ss = [] # список сумм квадратов\n",
    "        pivot_dict = {} # сводный словарь с данными о спетенях свободы, сумм квадратов, MS, F-значений, p-value\n",
    "\n",
    "        var_column = frame[frame.columns[0]] # series по столбцу зависимой переменной \n",
    "\n",
    "        comm_mean = sum(var_column) / len(var_column) # общее среднее по всем группам \n",
    "\n",
    "        for i in frame.columns[1::]: # итерация по факторам \n",
    "\n",
    "            for j in frame[i].unique(): # итерация по уникальным значениям i-ого фактора \n",
    "                depend_var = frame[frame[i] == j][frame.columns[0]] # series зависимой переменной j-ой группы i-ого фактора\n",
    "\n",
    "                if i == frame.columns[1]:\n",
    "                    ssb1 = ssb1 + sum([(depend_var.mean() - comm_mean) ** 2 for k in depend_var])\n",
    "                    dffac1 = len(frame[i].unique()) - 1 # степень свободы первого фактора \n",
    "                else:\n",
    "                    ssb2 = ssb2 + sum([(depend_var.mean() - comm_mean) ** 2 for k in depend_var])\n",
    "                    dffac2 = len(frame[i].unique()) - 1 # степень свободы второго фактора\n",
    "\n",
    "        for i in fac1_column.unique(): # итерация по уникальным значениям 1-ого фактора \n",
    "\n",
    "            for j in fac2_column.unique():  # итерация по уникальным значениям 2-ого фактора \n",
    "                a = frame[((fac1_column == i) & (fac2_column == j))][frame.columns[0]] # series подгруппы зависимой переменной j-ой группы 2-ого фактора и i-ого группы 1-ого фактора\n",
    "                ssw = ssw + sum([(a.mean() - k) ** 2 for k in a])\n",
    "                dfwithin = frame.shape[0] - (len(fac1_column.unique()) + len(fac2_column.unique())) # внутригрупповая степень свободы\n",
    "        sst = sum([(i - var_column.mean()) ** 2 for i in var_column]) # общая сумма квадратов \n",
    "        ssboth = sst - ssw - ssb1 - ssb2 # сумма квадратов взаимодействия двух факторов\n",
    "        ss.extend([ssb1, ssb2, ssboth, ssw]) \n",
    "\n",
    "        dfborh = dffac1 * dffac2\n",
    "        df.extend([dffac1, dffac2, dfborh, dfwithin])\n",
    "\n",
    "        ms = [a / b for a, b in zip(ss, df)] # вычисление mean square\n",
    "\n",
    "        f_score = [a / ms[3] for a in ms[:3]] # вычисление F критерия \n",
    "\n",
    "        p = stats.f.sf(f_score, df[:3], 60) # вычисление p-value \n",
    "\n",
    "        columns = ['index', 'df', 'Sum sq', 'Mean sq', 'F value', 'Pr(>F)']\n",
    "        index = [frame.columns[1], frame.columns[2], f'{frame.columns[1]}:{frame.columns[2]}', 'Residual']\n",
    "\n",
    "        temp = list([index, df, ss, ms, f_score, p]) # объединение в обший список \n",
    "\n",
    "        for i, j in zip(columns, temp):  \n",
    "            pivot_dict[i] = j\n",
    "\n",
    "        pivot_data = pd.DataFrame(pivot_dict.values(), pivot_dict.keys()).T\n",
    "        pivot_data.set_index('index')\n",
    "        sns.pointplot(x=fac1_column, y=var_column, hue=fac2_column, data=frame, dodge=True, linestyles=['', ''])  \n",
    "        \n",
    "    else:\n",
    "        print(f'Требования к распределению данных или гомогенности дисперсий групп не выполнены')\n",
    "        \n",
    "    return pivot_data"
   ]
  },
  {
   "cell_type": "markdown",
   "id": "dd232900",
   "metadata": {},
   "source": [
    "Задача: исследовать влияние инъекции некого гормона на концертрацию кальция в плазме у птиц разного пола \\\n",
    "Загрузим набор данных"
   ]
  },
  {
   "cell_type": "code",
   "execution_count": 18,
   "id": "67a14fad",
   "metadata": {},
   "outputs": [
    {
     "data": {
      "text/html": [
       "<div>\n",
       "<style scoped>\n",
       "    .dataframe tbody tr th:only-of-type {\n",
       "        vertical-align: middle;\n",
       "    }\n",
       "\n",
       "    .dataframe tbody tr th {\n",
       "        vertical-align: top;\n",
       "    }\n",
       "\n",
       "    .dataframe thead th {\n",
       "        text-align: right;\n",
       "    }\n",
       "</style>\n",
       "<table border=\"1\" class=\"dataframe\">\n",
       "  <thead>\n",
       "    <tr style=\"text-align: right;\">\n",
       "      <th></th>\n",
       "      <th>var4</th>\n",
       "      <th>hormone</th>\n",
       "      <th>sex</th>\n",
       "    </tr>\n",
       "  </thead>\n",
       "  <tbody>\n",
       "    <tr>\n",
       "      <th>0</th>\n",
       "      <td>17.859039</td>\n",
       "      <td>1</td>\n",
       "      <td>1</td>\n",
       "    </tr>\n",
       "    <tr>\n",
       "      <th>1</th>\n",
       "      <td>20.842343</td>\n",
       "      <td>1</td>\n",
       "      <td>1</td>\n",
       "    </tr>\n",
       "    <tr>\n",
       "      <th>2</th>\n",
       "      <td>19.318099</td>\n",
       "      <td>1</td>\n",
       "      <td>1</td>\n",
       "    </tr>\n",
       "    <tr>\n",
       "      <th>3</th>\n",
       "      <td>20.064451</td>\n",
       "      <td>1</td>\n",
       "      <td>1</td>\n",
       "    </tr>\n",
       "    <tr>\n",
       "      <th>4</th>\n",
       "      <td>17.620316</td>\n",
       "      <td>1</td>\n",
       "      <td>1</td>\n",
       "    </tr>\n",
       "  </tbody>\n",
       "</table>\n",
       "</div>"
      ],
      "text/plain": [
       "        var4  hormone  sex\n",
       "0  17.859039        1    1\n",
       "1  20.842343        1    1\n",
       "2  19.318099        1    1\n",
       "3  20.064451        1    1\n",
       "4  17.620316        1    1"
      ]
     },
     "execution_count": 18,
     "metadata": {},
     "output_type": "execute_result"
    }
   ],
   "source": [
    "hormone_inject = pd.read_csv(PATH + 'birds.csv')\n",
    "hormone_inject.head()\n",
    "# hormone: 1 - инекция, 0 - отсутствие инъекции \n",
    "# sex: 1 - мужской, 0 - женский"
   ]
  },
  {
   "cell_type": "code",
   "execution_count": 13,
   "id": "f83252a9",
   "metadata": {},
   "outputs": [
    {
     "name": "stdout",
     "output_type": "stream",
     "text": [
      "Зависимая переменна группы 1 распределена нормально, p-val = 0.46\n",
      "Зависимая переменна группы 2 распределена нормально, p-val = 0.87\n",
      "Зависимая переменна группы 3 распределена нормально, p-val = 0.1\n",
      "Зависимая переменна группы 4 распределена нормально, p-val = 0.42\n",
      "Дисперсии равны, p-val = 0.42\n"
     ]
    },
    {
     "data": {
      "text/html": [
       "<div>\n",
       "<style scoped>\n",
       "    .dataframe tbody tr th:only-of-type {\n",
       "        vertical-align: middle;\n",
       "    }\n",
       "\n",
       "    .dataframe tbody tr th {\n",
       "        vertical-align: top;\n",
       "    }\n",
       "\n",
       "    .dataframe thead th {\n",
       "        text-align: right;\n",
       "    }\n",
       "</style>\n",
       "<table border=\"1\" class=\"dataframe\">\n",
       "  <thead>\n",
       "    <tr style=\"text-align: right;\">\n",
       "      <th></th>\n",
       "      <th>index</th>\n",
       "      <th>df</th>\n",
       "      <th>Sum sq</th>\n",
       "      <th>Mean sq</th>\n",
       "      <th>F value</th>\n",
       "      <th>Pr(&gt;F)</th>\n",
       "    </tr>\n",
       "  </thead>\n",
       "  <tbody>\n",
       "    <tr>\n",
       "      <th>0</th>\n",
       "      <td>hormone</td>\n",
       "      <td>1</td>\n",
       "      <td>0.847472</td>\n",
       "      <td>0.847472</td>\n",
       "      <td>0.086528</td>\n",
       "      <td>0.769653</td>\n",
       "    </tr>\n",
       "    <tr>\n",
       "      <th>1</th>\n",
       "      <td>sex</td>\n",
       "      <td>1</td>\n",
       "      <td>0.119762</td>\n",
       "      <td>0.119762</td>\n",
       "      <td>0.012228</td>\n",
       "      <td>0.912318</td>\n",
       "    </tr>\n",
       "    <tr>\n",
       "      <th>2</th>\n",
       "      <td>hormone:sex</td>\n",
       "      <td>1</td>\n",
       "      <td>89.483384</td>\n",
       "      <td>89.483384</td>\n",
       "      <td>9.13639</td>\n",
       "      <td>0.003682</td>\n",
       "    </tr>\n",
       "    <tr>\n",
       "      <th>3</th>\n",
       "      <td>Residual</td>\n",
       "      <td>60</td>\n",
       "      <td>587.650394</td>\n",
       "      <td>9.794173</td>\n",
       "      <td>None</td>\n",
       "      <td>None</td>\n",
       "    </tr>\n",
       "  </tbody>\n",
       "</table>\n",
       "</div>"
      ],
      "text/plain": [
       "         index  df      Sum sq    Mean sq   F value    Pr(>F)\n",
       "0      hormone   1    0.847472   0.847472  0.086528  0.769653\n",
       "1          sex   1    0.119762   0.119762  0.012228  0.912318\n",
       "2  hormone:sex   1   89.483384  89.483384   9.13639  0.003682\n",
       "3     Residual  60  587.650394   9.794173      None      None"
      ]
     },
     "execution_count": 13,
     "metadata": {},
     "output_type": "execute_result"
    },
    {
     "data": {
      "image/png": "[encoded data removed]",
      "text/plain": [
       "<Figure size 720x432 with 1 Axes>"
      ]
     },
     "metadata": {
      "needs_background": "light"
     },
     "output_type": "display_data"
    }
   ],
   "source": [
    "twowayanova(hormone_inject)"
   ]
  },
  {
   "cell_type": "markdown",
   "id": "7546c66d",
   "metadata": {},
   "source": [
    "Вывод: фактор инъекции и пола по отдельности не оказал статистически значимого влияния на уровень кальция в плазме. Однако совокупность факторов оказала значимое влияние на зависимую переменную\n",
    "\n",
    "Задача: исследовать влияние инъекции некого препарата на величину экспрессии генов в двух возврастных группах. Загрузим набор данных"
   ]
  },
  {
   "cell_type": "code",
   "execution_count": 19,
   "id": "f9df6168",
   "metadata": {},
   "outputs": [],
   "source": [
    "gene_expression = pd.read_csv(PATH + 'atherosclerosis.csv')"
   ]
  },
  {
   "cell_type": "code",
   "execution_count": 15,
   "id": "4ee5aa06",
   "metadata": {},
   "outputs": [
    {
     "name": "stdout",
     "output_type": "stream",
     "text": [
      "Зависимая переменна группы 1 распределена нормально, p-val = 0.3\n",
      "Зависимая переменна группы 2 распределена нормально, p-val = 0.12\n",
      "Зависимая переменна группы 3 распределена нормально, p-val = 1.0\n",
      "Зависимая переменна группы 4 распределена нормально, p-val = 0.63\n",
      "Дисперсии равны, p-val = 0.63\n"
     ]
    },
    {
     "data": {
      "text/html": [
       "<div>\n",
       "<style scoped>\n",
       "    .dataframe tbody tr th:only-of-type {\n",
       "        vertical-align: middle;\n",
       "    }\n",
       "\n",
       "    .dataframe tbody tr th {\n",
       "        vertical-align: top;\n",
       "    }\n",
       "\n",
       "    .dataframe thead th {\n",
       "        text-align: right;\n",
       "    }\n",
       "</style>\n",
       "<table border=\"1\" class=\"dataframe\">\n",
       "  <thead>\n",
       "    <tr style=\"text-align: right;\">\n",
       "      <th></th>\n",
       "      <th>index</th>\n",
       "      <th>df</th>\n",
       "      <th>Sum sq</th>\n",
       "      <th>Mean sq</th>\n",
       "      <th>F value</th>\n",
       "      <th>Pr(&gt;F)</th>\n",
       "    </tr>\n",
       "  </thead>\n",
       "  <tbody>\n",
       "    <tr>\n",
       "      <th>0</th>\n",
       "      <td>age</td>\n",
       "      <td>1</td>\n",
       "      <td>197.452754</td>\n",
       "      <td>197.452754</td>\n",
       "      <td>7.449841</td>\n",
       "      <td>0.008313</td>\n",
       "    </tr>\n",
       "    <tr>\n",
       "      <th>1</th>\n",
       "      <td>dose</td>\n",
       "      <td>1</td>\n",
       "      <td>16.912241</td>\n",
       "      <td>16.912241</td>\n",
       "      <td>0.638094</td>\n",
       "      <td>0.427552</td>\n",
       "    </tr>\n",
       "    <tr>\n",
       "      <th>2</th>\n",
       "      <td>age:dose</td>\n",
       "      <td>1</td>\n",
       "      <td>0.927077</td>\n",
       "      <td>0.927077</td>\n",
       "      <td>0.034978</td>\n",
       "      <td>0.852272</td>\n",
       "    </tr>\n",
       "    <tr>\n",
       "      <th>3</th>\n",
       "      <td>Residual</td>\n",
       "      <td>60</td>\n",
       "      <td>1590.257424</td>\n",
       "      <td>26.50429</td>\n",
       "      <td>None</td>\n",
       "      <td>None</td>\n",
       "    </tr>\n",
       "  </tbody>\n",
       "</table>\n",
       "</div>"
      ],
      "text/plain": [
       "      index  df       Sum sq     Mean sq   F value    Pr(>F)\n",
       "0       age   1   197.452754  197.452754  7.449841  0.008313\n",
       "1      dose   1    16.912241   16.912241  0.638094  0.427552\n",
       "2  age:dose   1     0.927077    0.927077  0.034978  0.852272\n",
       "3  Residual  60  1590.257424    26.50429      None      None"
      ]
     },
     "execution_count": 15,
     "metadata": {},
     "output_type": "execute_result"
    },
    {
     "data": {
      "image/png": "[encoded data removed]",
      "text/plain": [
       "<Figure size 720x432 with 1 Axes>"
      ]
     },
     "metadata": {
      "needs_background": "light"
     },
     "output_type": "display_data"
    }
   ],
   "source": [
    "twowayanova(gene_expression)"
   ]
  },
  {
   "cell_type": "markdown",
   "id": "6bc5d34f",
   "metadata": {},
   "source": [
    "Вывод: фактор возраста оказал статистически значимое влияния на уровень экспресси гена. Pr=0.008313"
   ]
  },
  {
   "cell_type": "code",
   "execution_count": null,
   "id": "702555c1",
   "metadata": {},
   "outputs": [],
   "source": []
  }
 ],
 "metadata": {
  "kernelspec": {
   "display_name": "Python 3 (ipykernel)",
   "language": "python",
   "name": "python3"
  },
  "language_info": {
   "codemirror_mode": {
    "name": "ipython",
    "version": 3
   },
   "file_extension": ".py",
   "mimetype": "text/x-python",
   "name": "python",
   "nbconvert_exporter": "python",
   "pygments_lexer": "ipython3",
   "version": "3.9.12"
  },
  "toc": {
   "base_numbering": 1,
   "nav_menu": {},
   "number_sections": true,
   "sideBar": true,
   "skip_h1_title": false,
   "title_cell": "Table of Contents",
   "title_sidebar": "Contents",
   "toc_cell": false,
   "toc_position": {},
   "toc_section_display": true,
   "toc_window_display": true
  }
 },
 "nbformat": 4,
 "nbformat_minor": 5
}
